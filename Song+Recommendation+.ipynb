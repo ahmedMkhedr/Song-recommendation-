{
 "cells": [
  {
   "cell_type": "code",
   "execution_count": 303,
   "metadata": {
    "collapsed": true
   },
   "outputs": [],
   "source": [
    "import pandas as pd \n",
    "import numpy as np\n",
    "import sklearn\n",
    "from sklearn.decomposition import TruncatedSVD\n",
    "import sklearn\n",
    "from sklearn.neighbors import NearestNeighbors"
   ]
  },
  {
   "cell_type": "code",
   "execution_count": 256,
   "metadata": {},
   "outputs": [
    {
     "data": {
      "text/html": [
       "<div>\n",
       "<style scoped>\n",
       "    .dataframe tbody tr th:only-of-type {\n",
       "        vertical-align: middle;\n",
       "    }\n",
       "\n",
       "    .dataframe tbody tr th {\n",
       "        vertical-align: top;\n",
       "    }\n",
       "\n",
       "    .dataframe thead th {\n",
       "        text-align: right;\n",
       "    }\n",
       "</style>\n",
       "<table border=\"1\" class=\"dataframe\">\n",
       "  <thead>\n",
       "    <tr style=\"text-align: right;\">\n",
       "      <th></th>\n",
       "      <th>track_id</th>\n",
       "      <th>comments</th>\n",
       "      <th>date_created</th>\n",
       "      <th>date_released</th>\n",
       "      <th>engineer</th>\n",
       "      <th>favorites</th>\n",
       "      <th>id</th>\n",
       "      <th>information</th>\n",
       "      <th>listens</th>\n",
       "      <th>producer</th>\n",
       "      <th>tags</th>\n",
       "      <th>title</th>\n",
       "      <th>tracks</th>\n",
       "      <th>type</th>\n",
       "      <th>active_year_begin</th>\n",
       "      <th>active_year_end</th>\n",
       "      <th>associated_labels</th>\n",
       "      <th>website</th>\n",
       "      <th>wikipedia_page</th>\n",
       "      <th>split</th>\n",
       "    </tr>\n",
       "  </thead>\n",
       "  <tbody>\n",
       "    <tr>\n",
       "      <th>0</th>\n",
       "      <td>2.0</td>\n",
       "      <td>0.0</td>\n",
       "      <td>2008-11-26 1:44</td>\n",
       "      <td>2009-01-05 0:00</td>\n",
       "      <td>NaN</td>\n",
       "      <td>4.0</td>\n",
       "      <td>1.0</td>\n",
       "      <td>&lt;p&gt;&lt;/p&gt;</td>\n",
       "      <td>6073.0</td>\n",
       "      <td>NaN</td>\n",
       "      <td>[]</td>\n",
       "      <td>AWOL - A Way Of Life</td>\n",
       "      <td>7.0</td>\n",
       "      <td>Album</td>\n",
       "      <td>2006-01-01 0:00</td>\n",
       "      <td>NaN</td>\n",
       "      <td>NaN</td>\n",
       "      <td>http://www.AzillionRecords.blogspot.com</td>\n",
       "      <td>NaN</td>\n",
       "      <td>training</td>\n",
       "    </tr>\n",
       "    <tr>\n",
       "      <th>1</th>\n",
       "      <td>3.0</td>\n",
       "      <td>0.0</td>\n",
       "      <td>2008-11-26 1:44</td>\n",
       "      <td>2009-01-05 0:00</td>\n",
       "      <td>NaN</td>\n",
       "      <td>4.0</td>\n",
       "      <td>1.0</td>\n",
       "      <td>&lt;p&gt;&lt;/p&gt;</td>\n",
       "      <td>6073.0</td>\n",
       "      <td>NaN</td>\n",
       "      <td>[]</td>\n",
       "      <td>AWOL - A Way Of Life</td>\n",
       "      <td>7.0</td>\n",
       "      <td>Album</td>\n",
       "      <td>2006-01-01 0:00</td>\n",
       "      <td>NaN</td>\n",
       "      <td>NaN</td>\n",
       "      <td>http://www.AzillionRecords.blogspot.com</td>\n",
       "      <td>NaN</td>\n",
       "      <td>training</td>\n",
       "    </tr>\n",
       "    <tr>\n",
       "      <th>2</th>\n",
       "      <td>5.0</td>\n",
       "      <td>0.0</td>\n",
       "      <td>2008-11-26 1:44</td>\n",
       "      <td>2009-01-05 0:00</td>\n",
       "      <td>NaN</td>\n",
       "      <td>4.0</td>\n",
       "      <td>1.0</td>\n",
       "      <td>&lt;p&gt;&lt;/p&gt;</td>\n",
       "      <td>6073.0</td>\n",
       "      <td>NaN</td>\n",
       "      <td>[]</td>\n",
       "      <td>AWOL - A Way Of Life</td>\n",
       "      <td>7.0</td>\n",
       "      <td>Album</td>\n",
       "      <td>2006-01-01 0:00</td>\n",
       "      <td>NaN</td>\n",
       "      <td>NaN</td>\n",
       "      <td>http://www.AzillionRecords.blogspot.com</td>\n",
       "      <td>NaN</td>\n",
       "      <td>training</td>\n",
       "    </tr>\n",
       "    <tr>\n",
       "      <th>3</th>\n",
       "      <td>10.0</td>\n",
       "      <td>0.0</td>\n",
       "      <td>2008-11-26 1:45</td>\n",
       "      <td>2008-02-06 0:00</td>\n",
       "      <td>NaN</td>\n",
       "      <td>4.0</td>\n",
       "      <td>6.0</td>\n",
       "      <td>NaN</td>\n",
       "      <td>47632.0</td>\n",
       "      <td>NaN</td>\n",
       "      <td>[]</td>\n",
       "      <td>Constant Hitmaker</td>\n",
       "      <td>2.0</td>\n",
       "      <td>Album</td>\n",
       "      <td>NaN</td>\n",
       "      <td>NaN</td>\n",
       "      <td>Mexican Summer, Richie Records, Woodsist, Skul...</td>\n",
       "      <td>http://kurtvile.com</td>\n",
       "      <td>NaN</td>\n",
       "      <td>training</td>\n",
       "    </tr>\n",
       "    <tr>\n",
       "      <th>4</th>\n",
       "      <td>20.0</td>\n",
       "      <td>0.0</td>\n",
       "      <td>2008-11-26 1:45</td>\n",
       "      <td>2009-01-06 0:00</td>\n",
       "      <td>NaN</td>\n",
       "      <td>2.0</td>\n",
       "      <td>4.0</td>\n",
       "      <td>&lt;p&gt; \"spiritual songs\" from Nicky Cook&lt;/p&gt;</td>\n",
       "      <td>2710.0</td>\n",
       "      <td>NaN</td>\n",
       "      <td>[]</td>\n",
       "      <td>Niris</td>\n",
       "      <td>13.0</td>\n",
       "      <td>Album</td>\n",
       "      <td>1990-01-01 0:00</td>\n",
       "      <td>2011-01-01 0:00</td>\n",
       "      <td>NaN</td>\n",
       "      <td>NaN</td>\n",
       "      <td>NaN</td>\n",
       "      <td>training</td>\n",
       "    </tr>\n",
       "  </tbody>\n",
       "</table>\n",
       "</div>"
      ],
      "text/plain": [
       "   track_id  comments     date_created    date_released engineer  favorites  \\\n",
       "0       2.0       0.0  2008-11-26 1:44  2009-01-05 0:00      NaN        4.0   \n",
       "1       3.0       0.0  2008-11-26 1:44  2009-01-05 0:00      NaN        4.0   \n",
       "2       5.0       0.0  2008-11-26 1:44  2009-01-05 0:00      NaN        4.0   \n",
       "3      10.0       0.0  2008-11-26 1:45  2008-02-06 0:00      NaN        4.0   \n",
       "4      20.0       0.0  2008-11-26 1:45  2009-01-06 0:00      NaN        2.0   \n",
       "\n",
       "    id                                information  listens producer tags  \\\n",
       "0  1.0                                    <p></p>   6073.0      NaN   []   \n",
       "1  1.0                                    <p></p>   6073.0      NaN   []   \n",
       "2  1.0                                    <p></p>   6073.0      NaN   []   \n",
       "3  6.0                                        NaN  47632.0      NaN   []   \n",
       "4  4.0  <p> \"spiritual songs\" from Nicky Cook</p>   2710.0      NaN   []   \n",
       "\n",
       "                  title  tracks   type active_year_begin  active_year_end  \\\n",
       "0  AWOL - A Way Of Life     7.0  Album   2006-01-01 0:00              NaN   \n",
       "1  AWOL - A Way Of Life     7.0  Album   2006-01-01 0:00              NaN   \n",
       "2  AWOL - A Way Of Life     7.0  Album   2006-01-01 0:00              NaN   \n",
       "3     Constant Hitmaker     2.0  Album               NaN              NaN   \n",
       "4                 Niris    13.0  Album   1990-01-01 0:00  2011-01-01 0:00   \n",
       "\n",
       "                                   associated_labels  \\\n",
       "0                                                NaN   \n",
       "1                                                NaN   \n",
       "2                                                NaN   \n",
       "3  Mexican Summer, Richie Records, Woodsist, Skul...   \n",
       "4                                                NaN   \n",
       "\n",
       "                                   website wikipedia_page     split  \n",
       "0  http://www.AzillionRecords.blogspot.com            NaN  training  \n",
       "1  http://www.AzillionRecords.blogspot.com            NaN  training  \n",
       "2  http://www.AzillionRecords.blogspot.com            NaN  training  \n",
       "3                      http://kurtvile.com            NaN  training  \n",
       "4                                      NaN            NaN  training  "
      ]
     },
     "execution_count": 256,
     "metadata": {},
     "output_type": "execute_result"
    }
   ],
   "source": [
    "# Load the data\n",
    "Tracks = pd.read_csv(r\"Ahmed Project\\ML AHMED\\recommndation\\fma_metadata\\tracks.csv\") \n",
    "Tracks.head()\n"
   ]
  },
  {
   "cell_type": "code",
   "execution_count": 204,
   "metadata": {
    "collapsed": true
   },
   "outputs": [],
   "source": [
    "#drop the columns we dont need \n",
    "Tracks_new = Tracks.drop(['track_id','date_released','engineer','information','producer','tags','active_year_end','associated_labels','website','wikipedia_page','split','active_year_begin'], axis=1)\n"
   ]
  },
  {
   "cell_type": "code",
   "execution_count": 257,
   "metadata": {},
   "outputs": [
    {
     "data": {
      "text/html": [
       "<div>\n",
       "<style scoped>\n",
       "    .dataframe tbody tr th:only-of-type {\n",
       "        vertical-align: middle;\n",
       "    }\n",
       "\n",
       "    .dataframe tbody tr th {\n",
       "        vertical-align: top;\n",
       "    }\n",
       "\n",
       "    .dataframe thead th {\n",
       "        text-align: right;\n",
       "    }\n",
       "</style>\n",
       "<table border=\"1\" class=\"dataframe\">\n",
       "  <thead>\n",
       "    <tr style=\"text-align: right;\">\n",
       "      <th></th>\n",
       "      <th>comments</th>\n",
       "      <th>date_created</th>\n",
       "      <th>favorites</th>\n",
       "      <th>id</th>\n",
       "      <th>listens</th>\n",
       "      <th>title</th>\n",
       "      <th>tracks</th>\n",
       "      <th>type</th>\n",
       "    </tr>\n",
       "  </thead>\n",
       "  <tbody>\n",
       "    <tr>\n",
       "      <th>0</th>\n",
       "      <td>0.0</td>\n",
       "      <td>2008-11-26 1:44</td>\n",
       "      <td>4.0</td>\n",
       "      <td>1.0</td>\n",
       "      <td>6073.0</td>\n",
       "      <td>AWOL - A Way Of Life</td>\n",
       "      <td>7.0</td>\n",
       "      <td>Album</td>\n",
       "    </tr>\n",
       "    <tr>\n",
       "      <th>3</th>\n",
       "      <td>0.0</td>\n",
       "      <td>2008-11-26 1:45</td>\n",
       "      <td>4.0</td>\n",
       "      <td>6.0</td>\n",
       "      <td>47632.0</td>\n",
       "      <td>Constant Hitmaker</td>\n",
       "      <td>2.0</td>\n",
       "      <td>Album</td>\n",
       "    </tr>\n",
       "    <tr>\n",
       "      <th>4</th>\n",
       "      <td>0.0</td>\n",
       "      <td>2008-11-26 1:45</td>\n",
       "      <td>2.0</td>\n",
       "      <td>4.0</td>\n",
       "      <td>2710.0</td>\n",
       "      <td>Niris</td>\n",
       "      <td>13.0</td>\n",
       "      <td>Album</td>\n",
       "    </tr>\n",
       "    <tr>\n",
       "      <th>10</th>\n",
       "      <td>1.0</td>\n",
       "      <td>2008-11-26 1:49</td>\n",
       "      <td>0.0</td>\n",
       "      <td>58.0</td>\n",
       "      <td>3331.0</td>\n",
       "      <td>mp3</td>\n",
       "      <td>4.0</td>\n",
       "      <td>Single Tracks</td>\n",
       "    </tr>\n",
       "    <tr>\n",
       "      <th>12</th>\n",
       "      <td>1.0</td>\n",
       "      <td>2008-11-26 1:49</td>\n",
       "      <td>2.0</td>\n",
       "      <td>59.0</td>\n",
       "      <td>1681.0</td>\n",
       "      <td>Live at LACE</td>\n",
       "      <td>2.0</td>\n",
       "      <td>Live Performance</td>\n",
       "    </tr>\n",
       "  </tbody>\n",
       "</table>\n",
       "</div>"
      ],
      "text/plain": [
       "    comments     date_created  favorites    id  listens                 title  \\\n",
       "0        0.0  2008-11-26 1:44        4.0   1.0   6073.0  AWOL - A Way Of Life   \n",
       "3        0.0  2008-11-26 1:45        4.0   6.0  47632.0     Constant Hitmaker   \n",
       "4        0.0  2008-11-26 1:45        2.0   4.0   2710.0                 Niris   \n",
       "10       1.0  2008-11-26 1:49        0.0  58.0   3331.0                   mp3   \n",
       "12       1.0  2008-11-26 1:49        2.0  59.0   1681.0          Live at LACE   \n",
       "\n",
       "    tracks              type  \n",
       "0      7.0             Album  \n",
       "3      2.0             Album  \n",
       "4     13.0             Album  \n",
       "10     4.0     Single Tracks  \n",
       "12     2.0  Live Performance  "
      ]
     },
     "execution_count": 257,
     "metadata": {},
     "output_type": "execute_result"
    }
   ],
   "source": [
    "Tracks_new.head()"
   ]
  },
  {
   "cell_type": "code",
   "execution_count": 258,
   "metadata": {
    "collapsed": true
   },
   "outputs": [],
   "source": [
    "# remove duplicates\n",
    "Tracks_new = Tracks_new.drop_duplicates()\n"
   ]
  },
  {
   "cell_type": "code",
   "execution_count": 259,
   "metadata": {
    "collapsed": true
   },
   "outputs": [],
   "source": [
    "# drop null values \n",
    "Tracks_new=Tracks_new.dropna(axis=0)"
   ]
  },
  {
   "cell_type": "code",
   "execution_count": 260,
   "metadata": {},
   "outputs": [
    {
     "name": "stdout",
     "output_type": "stream",
     "text": [
      "<class 'pandas.core.frame.DataFrame'>\n",
      "Int64Index: 13707 entries, 0 to 103504\n",
      "Data columns (total 8 columns):\n",
      " #   Column        Non-Null Count  Dtype  \n",
      "---  ------        --------------  -----  \n",
      " 0   comments      13707 non-null  float64\n",
      " 1   date_created  13707 non-null  object \n",
      " 2   favorites     13707 non-null  float64\n",
      " 3   id            13707 non-null  float64\n",
      " 4   listens       13707 non-null  float64\n",
      " 5   title         13707 non-null  object \n",
      " 6   tracks        13707 non-null  float64\n",
      " 7   type          13707 non-null  object \n",
      "dtypes: float64(5), object(3)\n",
      "memory usage: 963.8+ KB\n"
     ]
    }
   ],
   "source": [
    "Tracks_new.info()"
   ]
  },
  {
   "cell_type": "code",
   "execution_count": 261,
   "metadata": {},
   "outputs": [
    {
     "data": {
      "text/html": [
       "<div>\n",
       "<style scoped>\n",
       "    .dataframe tbody tr th:only-of-type {\n",
       "        vertical-align: middle;\n",
       "    }\n",
       "\n",
       "    .dataframe tbody tr th {\n",
       "        vertical-align: top;\n",
       "    }\n",
       "\n",
       "    .dataframe thead th {\n",
       "        text-align: right;\n",
       "    }\n",
       "</style>\n",
       "<table border=\"1\" class=\"dataframe\">\n",
       "  <thead>\n",
       "    <tr style=\"text-align: right;\">\n",
       "      <th></th>\n",
       "      <th>comments</th>\n",
       "      <th>date_created</th>\n",
       "      <th>favorites</th>\n",
       "      <th>id</th>\n",
       "      <th>listens</th>\n",
       "      <th>title</th>\n",
       "      <th>tracks</th>\n",
       "      <th>type</th>\n",
       "    </tr>\n",
       "  </thead>\n",
       "  <tbody>\n",
       "    <tr>\n",
       "      <th>0</th>\n",
       "      <td>0.0</td>\n",
       "      <td>2008-11-26 1:44</td>\n",
       "      <td>4.0</td>\n",
       "      <td>1.0</td>\n",
       "      <td>6073.0</td>\n",
       "      <td>AWOL - A Way Of Life</td>\n",
       "      <td>7.0</td>\n",
       "      <td>Album</td>\n",
       "    </tr>\n",
       "    <tr>\n",
       "      <th>3</th>\n",
       "      <td>0.0</td>\n",
       "      <td>2008-11-26 1:45</td>\n",
       "      <td>4.0</td>\n",
       "      <td>6.0</td>\n",
       "      <td>47632.0</td>\n",
       "      <td>Constant Hitmaker</td>\n",
       "      <td>2.0</td>\n",
       "      <td>Album</td>\n",
       "    </tr>\n",
       "    <tr>\n",
       "      <th>4</th>\n",
       "      <td>0.0</td>\n",
       "      <td>2008-11-26 1:45</td>\n",
       "      <td>2.0</td>\n",
       "      <td>4.0</td>\n",
       "      <td>2710.0</td>\n",
       "      <td>Niris</td>\n",
       "      <td>13.0</td>\n",
       "      <td>Album</td>\n",
       "    </tr>\n",
       "    <tr>\n",
       "      <th>10</th>\n",
       "      <td>1.0</td>\n",
       "      <td>2008-11-26 1:49</td>\n",
       "      <td>0.0</td>\n",
       "      <td>58.0</td>\n",
       "      <td>3331.0</td>\n",
       "      <td>mp3</td>\n",
       "      <td>4.0</td>\n",
       "      <td>Single Tracks</td>\n",
       "    </tr>\n",
       "    <tr>\n",
       "      <th>12</th>\n",
       "      <td>1.0</td>\n",
       "      <td>2008-11-26 1:49</td>\n",
       "      <td>2.0</td>\n",
       "      <td>59.0</td>\n",
       "      <td>1681.0</td>\n",
       "      <td>Live at LACE</td>\n",
       "      <td>2.0</td>\n",
       "      <td>Live Performance</td>\n",
       "    </tr>\n",
       "  </tbody>\n",
       "</table>\n",
       "</div>"
      ],
      "text/plain": [
       "    comments     date_created  favorites    id  listens                 title  \\\n",
       "0        0.0  2008-11-26 1:44        4.0   1.0   6073.0  AWOL - A Way Of Life   \n",
       "3        0.0  2008-11-26 1:45        4.0   6.0  47632.0     Constant Hitmaker   \n",
       "4        0.0  2008-11-26 1:45        2.0   4.0   2710.0                 Niris   \n",
       "10       1.0  2008-11-26 1:49        0.0  58.0   3331.0                   mp3   \n",
       "12       1.0  2008-11-26 1:49        2.0  59.0   1681.0          Live at LACE   \n",
       "\n",
       "    tracks              type  \n",
       "0      7.0             Album  \n",
       "3      2.0             Album  \n",
       "4     13.0             Album  \n",
       "10     4.0     Single Tracks  \n",
       "12     2.0  Live Performance  "
      ]
     },
     "execution_count": 261,
     "metadata": {},
     "output_type": "execute_result"
    }
   ],
   "source": [
    "Tracks_new.head()"
   ]
  },
  {
   "cell_type": "code",
   "execution_count": 262,
   "metadata": {},
   "outputs": [
    {
     "data": {
      "text/html": [
       "<div>\n",
       "<style scoped>\n",
       "    .dataframe tbody tr th:only-of-type {\n",
       "        vertical-align: middle;\n",
       "    }\n",
       "\n",
       "    .dataframe tbody tr th {\n",
       "        vertical-align: top;\n",
       "    }\n",
       "\n",
       "    .dataframe thead th {\n",
       "        text-align: right;\n",
       "    }\n",
       "</style>\n",
       "<table border=\"1\" class=\"dataframe\">\n",
       "  <thead>\n",
       "    <tr style=\"text-align: right;\">\n",
       "      <th></th>\n",
       "      <th>comments</th>\n",
       "      <th>favorites</th>\n",
       "      <th>id</th>\n",
       "      <th>listens</th>\n",
       "      <th>tracks</th>\n",
       "    </tr>\n",
       "    <tr>\n",
       "      <th>title</th>\n",
       "      <th></th>\n",
       "      <th></th>\n",
       "      <th></th>\n",
       "      <th></th>\n",
       "      <th></th>\n",
       "    </tr>\n",
       "  </thead>\n",
       "  <tbody>\n",
       "    <tr>\n",
       "      <th>\"...Through The Cracks\" Mix Vol. 1</th>\n",
       "      <td>0.0</td>\n",
       "      <td>1.0</td>\n",
       "      <td>21245.0</td>\n",
       "      <td>2962.0</td>\n",
       "      <td>5.0</td>\n",
       "    </tr>\n",
       "    <tr>\n",
       "      <th>\"...when my heart's fire rages out of control...\"</th>\n",
       "      <td>0.0</td>\n",
       "      <td>0.0</td>\n",
       "      <td>22482.0</td>\n",
       "      <td>17664.0</td>\n",
       "      <td>33.0</td>\n",
       "    </tr>\n",
       "    <tr>\n",
       "      <th>\"32 Ford\"</th>\n",
       "      <td>0.0</td>\n",
       "      <td>2.0</td>\n",
       "      <td>12717.0</td>\n",
       "      <td>11770.0</td>\n",
       "      <td>1.0</td>\n",
       "    </tr>\n",
       "    <tr>\n",
       "      <th>\"A.B.A.Y.A.M\"</th>\n",
       "      <td>0.0</td>\n",
       "      <td>0.0</td>\n",
       "      <td>12708.0</td>\n",
       "      <td>2596.0</td>\n",
       "      <td>1.0</td>\n",
       "    </tr>\n",
       "    <tr>\n",
       "      <th>\"Aeroplanes\"</th>\n",
       "      <td>0.0</td>\n",
       "      <td>1.0</td>\n",
       "      <td>12698.0</td>\n",
       "      <td>1785.0</td>\n",
       "      <td>1.0</td>\n",
       "    </tr>\n",
       "    <tr>\n",
       "      <th>...</th>\n",
       "      <td>...</td>\n",
       "      <td>...</td>\n",
       "      <td>...</td>\n",
       "      <td>...</td>\n",
       "      <td>...</td>\n",
       "    </tr>\n",
       "    <tr>\n",
       "      <th>ロッコ</th>\n",
       "      <td>0.0</td>\n",
       "      <td>2.0</td>\n",
       "      <td>21483.0</td>\n",
       "      <td>42453.0</td>\n",
       "      <td>8.0</td>\n",
       "    </tr>\n",
       "    <tr>\n",
       "      <th>章4 : 真っ暗闇の人生 : Volume 1</th>\n",
       "      <td>0.0</td>\n",
       "      <td>1.0</td>\n",
       "      <td>22049.0</td>\n",
       "      <td>10631.0</td>\n",
       "      <td>16.0</td>\n",
       "    </tr>\n",
       "    <tr>\n",
       "      <th>章4 : 真っ暗闇の人生 : Volume 2</th>\n",
       "      <td>0.0</td>\n",
       "      <td>1.0</td>\n",
       "      <td>22057.0</td>\n",
       "      <td>8136.0</td>\n",
       "      <td>15.0</td>\n",
       "    </tr>\n",
       "    <tr>\n",
       "      <th>章4 : 真っ暗闇の人生 : Volume 3</th>\n",
       "      <td>0.0</td>\n",
       "      <td>0.0</td>\n",
       "      <td>22061.0</td>\n",
       "      <td>20715.0</td>\n",
       "      <td>9.0</td>\n",
       "    </tr>\n",
       "    <tr>\n",
       "      <th>起死回生</th>\n",
       "      <td>0.0</td>\n",
       "      <td>0.0</td>\n",
       "      <td>17231.0</td>\n",
       "      <td>16443.0</td>\n",
       "      <td>3.0</td>\n",
       "    </tr>\n",
       "  </tbody>\n",
       "</table>\n",
       "<p>13309 rows × 5 columns</p>\n",
       "</div>"
      ],
      "text/plain": [
       "                                                   comments  favorites  \\\n",
       "title                                                                    \n",
       "\"...Through The Cracks\" Mix Vol. 1                      0.0        1.0   \n",
       "\"...when my heart's fire rages out of control...\"       0.0        0.0   \n",
       "\"32 Ford\"                                               0.0        2.0   \n",
       "\"A.B.A.Y.A.M\"                                           0.0        0.0   \n",
       "\"Aeroplanes\"                                            0.0        1.0   \n",
       "...                                                     ...        ...   \n",
       "ロッコ                                                     0.0        2.0   \n",
       "章4 : 真っ暗闇の人生 : Volume 1                                 0.0        1.0   \n",
       "章4 : 真っ暗闇の人生 : Volume 2                                 0.0        1.0   \n",
       "章4 : 真っ暗闇の人生 : Volume 3                                 0.0        0.0   \n",
       "起死回生                                                    0.0        0.0   \n",
       "\n",
       "                                                        id  listens  tracks  \n",
       "title                                                                        \n",
       "\"...Through The Cracks\" Mix Vol. 1                 21245.0   2962.0     5.0  \n",
       "\"...when my heart's fire rages out of control...\"  22482.0  17664.0    33.0  \n",
       "\"32 Ford\"                                          12717.0  11770.0     1.0  \n",
       "\"A.B.A.Y.A.M\"                                      12708.0   2596.0     1.0  \n",
       "\"Aeroplanes\"                                       12698.0   1785.0     1.0  \n",
       "...                                                    ...      ...     ...  \n",
       "ロッコ                                                21483.0  42453.0     8.0  \n",
       "章4 : 真っ暗闇の人生 : Volume 1                            22049.0  10631.0    16.0  \n",
       "章4 : 真っ暗闇の人生 : Volume 2                            22057.0   8136.0    15.0  \n",
       "章4 : 真っ暗闇の人生 : Volume 3                            22061.0  20715.0     9.0  \n",
       "起死回生                                               17231.0  16443.0     3.0  \n",
       "\n",
       "[13309 rows x 5 columns]"
      ]
     },
     "execution_count": 262,
     "metadata": {},
     "output_type": "execute_result"
    }
   ],
   "source": [
    "# group by songs \n",
    "Tracks_new.groupby('title').sum()\n"
   ]
  },
  {
   "cell_type": "code",
   "execution_count": 263,
   "metadata": {},
   "outputs": [
    {
     "data": {
      "text/html": [
       "<div>\n",
       "<style scoped>\n",
       "    .dataframe tbody tr th:only-of-type {\n",
       "        vertical-align: middle;\n",
       "    }\n",
       "\n",
       "    .dataframe tbody tr th {\n",
       "        vertical-align: top;\n",
       "    }\n",
       "\n",
       "    .dataframe thead th {\n",
       "        text-align: right;\n",
       "    }\n",
       "</style>\n",
       "<table border=\"1\" class=\"dataframe\">\n",
       "  <thead>\n",
       "    <tr style=\"text-align: right;\">\n",
       "      <th></th>\n",
       "      <th>comments</th>\n",
       "      <th>date_created</th>\n",
       "      <th>favorites</th>\n",
       "      <th>id</th>\n",
       "      <th>listens</th>\n",
       "      <th>title</th>\n",
       "      <th>tracks</th>\n",
       "      <th>type</th>\n",
       "    </tr>\n",
       "  </thead>\n",
       "  <tbody>\n",
       "    <tr>\n",
       "      <th>0</th>\n",
       "      <td>0.0</td>\n",
       "      <td>2008-11-26 1:44</td>\n",
       "      <td>4.0</td>\n",
       "      <td>1.0</td>\n",
       "      <td>6073.0</td>\n",
       "      <td>AWOL - A Way Of Life</td>\n",
       "      <td>7.0</td>\n",
       "      <td>Album</td>\n",
       "    </tr>\n",
       "    <tr>\n",
       "      <th>3</th>\n",
       "      <td>0.0</td>\n",
       "      <td>2008-11-26 1:45</td>\n",
       "      <td>4.0</td>\n",
       "      <td>6.0</td>\n",
       "      <td>47632.0</td>\n",
       "      <td>Constant Hitmaker</td>\n",
       "      <td>2.0</td>\n",
       "      <td>Album</td>\n",
       "    </tr>\n",
       "    <tr>\n",
       "      <th>4</th>\n",
       "      <td>0.0</td>\n",
       "      <td>2008-11-26 1:45</td>\n",
       "      <td>2.0</td>\n",
       "      <td>4.0</td>\n",
       "      <td>2710.0</td>\n",
       "      <td>Niris</td>\n",
       "      <td>13.0</td>\n",
       "      <td>Album</td>\n",
       "    </tr>\n",
       "    <tr>\n",
       "      <th>10</th>\n",
       "      <td>1.0</td>\n",
       "      <td>2008-11-26 1:49</td>\n",
       "      <td>0.0</td>\n",
       "      <td>58.0</td>\n",
       "      <td>3331.0</td>\n",
       "      <td>mp3</td>\n",
       "      <td>4.0</td>\n",
       "      <td>Single Tracks</td>\n",
       "    </tr>\n",
       "    <tr>\n",
       "      <th>12</th>\n",
       "      <td>1.0</td>\n",
       "      <td>2008-11-26 1:49</td>\n",
       "      <td>2.0</td>\n",
       "      <td>59.0</td>\n",
       "      <td>1681.0</td>\n",
       "      <td>Live at LACE</td>\n",
       "      <td>2.0</td>\n",
       "      <td>Live Performance</td>\n",
       "    </tr>\n",
       "  </tbody>\n",
       "</table>\n",
       "</div>"
      ],
      "text/plain": [
       "    comments     date_created  favorites    id  listens                 title  \\\n",
       "0        0.0  2008-11-26 1:44        4.0   1.0   6073.0  AWOL - A Way Of Life   \n",
       "3        0.0  2008-11-26 1:45        4.0   6.0  47632.0     Constant Hitmaker   \n",
       "4        0.0  2008-11-26 1:45        2.0   4.0   2710.0                 Niris   \n",
       "10       1.0  2008-11-26 1:49        0.0  58.0   3331.0                   mp3   \n",
       "12       1.0  2008-11-26 1:49        2.0  59.0   1681.0          Live at LACE   \n",
       "\n",
       "    tracks              type  \n",
       "0      7.0             Album  \n",
       "3      2.0             Album  \n",
       "4     13.0             Album  \n",
       "10     4.0     Single Tracks  \n",
       "12     2.0  Live Performance  "
      ]
     },
     "execution_count": 263,
     "metadata": {},
     "output_type": "execute_result"
    }
   ],
   "source": [
    "Tracks_new.head()"
   ]
  },
  {
   "cell_type": "markdown",
   "metadata": {
    "collapsed": true
   },
   "source": [
    "## Recommendation based on total listens "
   ]
  },
  {
   "cell_type": "code",
   "execution_count": 264,
   "metadata": {},
   "outputs": [
    {
     "data": {
      "text/html": [
       "<div>\n",
       "<style scoped>\n",
       "    .dataframe tbody tr th:only-of-type {\n",
       "        vertical-align: middle;\n",
       "    }\n",
       "\n",
       "    .dataframe tbody tr th {\n",
       "        vertical-align: top;\n",
       "    }\n",
       "\n",
       "    .dataframe thead th {\n",
       "        text-align: right;\n",
       "    }\n",
       "</style>\n",
       "<table border=\"1\" class=\"dataframe\">\n",
       "  <thead>\n",
       "    <tr style=\"text-align: right;\">\n",
       "      <th></th>\n",
       "      <th>listens</th>\n",
       "    </tr>\n",
       "    <tr>\n",
       "      <th>title</th>\n",
       "      <th></th>\n",
       "    </tr>\n",
       "  </thead>\n",
       "  <tbody>\n",
       "    <tr>\n",
       "      <th>Entries</th>\n",
       "      <td>3564243.0</td>\n",
       "    </tr>\n",
       "    <tr>\n",
       "      <th>Nameless: The Hackers RPG Soundtrack</th>\n",
       "      <td>1553769.0</td>\n",
       "    </tr>\n",
       "    <tr>\n",
       "      <th>Cylinders</th>\n",
       "      <td>1363291.0</td>\n",
       "    </tr>\n",
       "    <tr>\n",
       "      <th>Audionautix: Acoustic</th>\n",
       "      <td>1282752.0</td>\n",
       "    </tr>\n",
       "    <tr>\n",
       "      <th>Classical Sampler</th>\n",
       "      <td>1193803.0</td>\n",
       "    </tr>\n",
       "  </tbody>\n",
       "</table>\n",
       "</div>"
      ],
      "text/plain": [
       "                                        listens\n",
       "title                                          \n",
       "Entries                               3564243.0\n",
       "Nameless: The Hackers RPG Soundtrack  1553769.0\n",
       "Cylinders                             1363291.0\n",
       "Audionautix: Acoustic                 1282752.0\n",
       "Classical Sampler                     1193803.0"
      ]
     },
     "execution_count": 264,
     "metadata": {},
     "output_type": "execute_result"
    }
   ],
   "source": [
    "# Grouping the data based on the total listen for each song.\n",
    "\n",
    "listen_count = pd.DataFrame(Tracks_new.groupby('title')['listens'].sum())\n",
    "\n",
    "Most_Listen=listen_count.sort_values('listens', ascending=False).head()\n",
    "\n",
    "Most_Listen"
   ]
  },
  {
   "cell_type": "markdown",
   "metadata": {},
   "source": [
    "## Recommendation based Similarity (Total Listens) \n"
   ]
  },
  {
   "cell_type": "code",
   "execution_count": 213,
   "metadata": {},
   "outputs": [
    {
     "data": {
      "text/plain": [
       "title\n",
       "Entries                                 3564243.0\n",
       "Nameless: The Hackers RPG Soundtrack    1553769.0\n",
       "Cylinders                               1363291.0\n",
       "Audionautix: Acoustic                   1282752.0\n",
       "Classical Sampler                       1193803.0\n",
       "Name: listens, dtype: float64"
      ]
     },
     "execution_count": 213,
     "metadata": {},
     "output_type": "execute_result"
    }
   ],
   "source": [
    "# knowing the top 5 songs with most listens \n",
    "Tracks_new.groupby('title')['listens'].sum().sort_values(ascending=False).head()"
   ]
  },
  {
   "cell_type": "code",
   "execution_count": 267,
   "metadata": {},
   "outputs": [
    {
     "data": {
      "text/html": [
       "<div>\n",
       "<style scoped>\n",
       "    .dataframe tbody tr th:only-of-type {\n",
       "        vertical-align: middle;\n",
       "    }\n",
       "\n",
       "    .dataframe tbody tr th {\n",
       "        vertical-align: top;\n",
       "    }\n",
       "\n",
       "    .dataframe thead th {\n",
       "        text-align: right;\n",
       "    }\n",
       "</style>\n",
       "<table border=\"1\" class=\"dataframe\">\n",
       "  <thead>\n",
       "    <tr style=\"text-align: right;\">\n",
       "      <th>title</th>\n",
       "      <th>\"...Through The Cracks\" Mix Vol. 1</th>\n",
       "      <th>\"...when my heart's fire rages out of control...\"</th>\n",
       "      <th>\"32 Ford\"</th>\n",
       "      <th>\"A.B.A.Y.A.M\"</th>\n",
       "      <th>\"Aeroplanes\"</th>\n",
       "      <th>\"Affairs of Heart\"</th>\n",
       "      <th>\"After Dark\" (Bobb Trimble's Flying Spiders Live in Brooklyn 6/25/09)</th>\n",
       "      <th>\"All or Nothing\" Action Orchestra</th>\n",
       "      <th>\"Brown Piss Junkie\" split cassette</th>\n",
       "      <th>\"Burn A Flag, Put Out A Fire\"</th>\n",
       "      <th>...</th>\n",
       "      <th>шизнь</th>\n",
       "      <th>эпоха лишних музыкантов</th>\n",
       "      <th>…Serpeggiava Un Freddo Viscido Di Ombra Perenne’</th>\n",
       "      <th>しSD EP</th>\n",
       "      <th>む​(​sic)</th>\n",
       "      <th>ロッコ</th>\n",
       "      <th>章4 : 真っ暗闇の人生 : Volume 1</th>\n",
       "      <th>章4 : 真っ暗闇の人生 : Volume 2</th>\n",
       "      <th>章4 : 真っ暗闇の人生 : Volume 3</th>\n",
       "      <th>起死回生</th>\n",
       "    </tr>\n",
       "    <tr>\n",
       "      <th>id</th>\n",
       "      <th></th>\n",
       "      <th></th>\n",
       "      <th></th>\n",
       "      <th></th>\n",
       "      <th></th>\n",
       "      <th></th>\n",
       "      <th></th>\n",
       "      <th></th>\n",
       "      <th></th>\n",
       "      <th></th>\n",
       "      <th></th>\n",
       "      <th></th>\n",
       "      <th></th>\n",
       "      <th></th>\n",
       "      <th></th>\n",
       "      <th></th>\n",
       "      <th></th>\n",
       "      <th></th>\n",
       "      <th></th>\n",
       "      <th></th>\n",
       "      <th></th>\n",
       "    </tr>\n",
       "  </thead>\n",
       "  <tbody>\n",
       "    <tr>\n",
       "      <th>1.0</th>\n",
       "      <td>0</td>\n",
       "      <td>0</td>\n",
       "      <td>0</td>\n",
       "      <td>0</td>\n",
       "      <td>0</td>\n",
       "      <td>0</td>\n",
       "      <td>0</td>\n",
       "      <td>0</td>\n",
       "      <td>0</td>\n",
       "      <td>0</td>\n",
       "      <td>...</td>\n",
       "      <td>0</td>\n",
       "      <td>0</td>\n",
       "      <td>0</td>\n",
       "      <td>0</td>\n",
       "      <td>0</td>\n",
       "      <td>0</td>\n",
       "      <td>0</td>\n",
       "      <td>0</td>\n",
       "      <td>0</td>\n",
       "      <td>0</td>\n",
       "    </tr>\n",
       "    <tr>\n",
       "      <th>4.0</th>\n",
       "      <td>0</td>\n",
       "      <td>0</td>\n",
       "      <td>0</td>\n",
       "      <td>0</td>\n",
       "      <td>0</td>\n",
       "      <td>0</td>\n",
       "      <td>0</td>\n",
       "      <td>0</td>\n",
       "      <td>0</td>\n",
       "      <td>0</td>\n",
       "      <td>...</td>\n",
       "      <td>0</td>\n",
       "      <td>0</td>\n",
       "      <td>0</td>\n",
       "      <td>0</td>\n",
       "      <td>0</td>\n",
       "      <td>0</td>\n",
       "      <td>0</td>\n",
       "      <td>0</td>\n",
       "      <td>0</td>\n",
       "      <td>0</td>\n",
       "    </tr>\n",
       "    <tr>\n",
       "      <th>6.0</th>\n",
       "      <td>0</td>\n",
       "      <td>0</td>\n",
       "      <td>0</td>\n",
       "      <td>0</td>\n",
       "      <td>0</td>\n",
       "      <td>0</td>\n",
       "      <td>0</td>\n",
       "      <td>0</td>\n",
       "      <td>0</td>\n",
       "      <td>0</td>\n",
       "      <td>...</td>\n",
       "      <td>0</td>\n",
       "      <td>0</td>\n",
       "      <td>0</td>\n",
       "      <td>0</td>\n",
       "      <td>0</td>\n",
       "      <td>0</td>\n",
       "      <td>0</td>\n",
       "      <td>0</td>\n",
       "      <td>0</td>\n",
       "      <td>0</td>\n",
       "    </tr>\n",
       "    <tr>\n",
       "      <th>58.0</th>\n",
       "      <td>0</td>\n",
       "      <td>0</td>\n",
       "      <td>0</td>\n",
       "      <td>0</td>\n",
       "      <td>0</td>\n",
       "      <td>0</td>\n",
       "      <td>0</td>\n",
       "      <td>0</td>\n",
       "      <td>0</td>\n",
       "      <td>0</td>\n",
       "      <td>...</td>\n",
       "      <td>0</td>\n",
       "      <td>0</td>\n",
       "      <td>0</td>\n",
       "      <td>0</td>\n",
       "      <td>0</td>\n",
       "      <td>0</td>\n",
       "      <td>0</td>\n",
       "      <td>0</td>\n",
       "      <td>0</td>\n",
       "      <td>0</td>\n",
       "    </tr>\n",
       "    <tr>\n",
       "      <th>59.0</th>\n",
       "      <td>0</td>\n",
       "      <td>0</td>\n",
       "      <td>0</td>\n",
       "      <td>0</td>\n",
       "      <td>0</td>\n",
       "      <td>0</td>\n",
       "      <td>0</td>\n",
       "      <td>0</td>\n",
       "      <td>0</td>\n",
       "      <td>0</td>\n",
       "      <td>...</td>\n",
       "      <td>0</td>\n",
       "      <td>0</td>\n",
       "      <td>0</td>\n",
       "      <td>0</td>\n",
       "      <td>0</td>\n",
       "      <td>0</td>\n",
       "      <td>0</td>\n",
       "      <td>0</td>\n",
       "      <td>0</td>\n",
       "      <td>0</td>\n",
       "    </tr>\n",
       "  </tbody>\n",
       "</table>\n",
       "<p>5 rows × 13309 columns</p>\n",
       "</div>"
      ],
      "text/plain": [
       "title  \"...Through The Cracks\" Mix Vol. 1  \\\n",
       "id                                          \n",
       "1.0                                     0   \n",
       "4.0                                     0   \n",
       "6.0                                     0   \n",
       "58.0                                    0   \n",
       "59.0                                    0   \n",
       "\n",
       "title  \"...when my heart's fire rages out of control...\"  \"32 Ford\"  \\\n",
       "id                                                                    \n",
       "1.0                                                    0          0   \n",
       "4.0                                                    0          0   \n",
       "6.0                                                    0          0   \n",
       "58.0                                                   0          0   \n",
       "59.0                                                   0          0   \n",
       "\n",
       "title  \"A.B.A.Y.A.M\"  \"Aeroplanes\"  \"Affairs of Heart\"  \\\n",
       "id                                                       \n",
       "1.0                0             0                   0   \n",
       "4.0                0             0                   0   \n",
       "6.0                0             0                   0   \n",
       "58.0               0             0                   0   \n",
       "59.0               0             0                   0   \n",
       "\n",
       "title  \"After Dark\" (Bobb Trimble's Flying Spiders Live in Brooklyn 6/25/09)  \\\n",
       "id                                                                             \n",
       "1.0                                                    0                       \n",
       "4.0                                                    0                       \n",
       "6.0                                                    0                       \n",
       "58.0                                                   0                       \n",
       "59.0                                                   0                       \n",
       "\n",
       "title  \"All or Nothing\" Action Orchestra  \"Brown Piss Junkie\" split cassette  \\\n",
       "id                                                                             \n",
       "1.0                                    0                                   0   \n",
       "4.0                                    0                                   0   \n",
       "6.0                                    0                                   0   \n",
       "58.0                                   0                                   0   \n",
       "59.0                                   0                                   0   \n",
       "\n",
       "title  \"Burn A Flag, Put Out A Fire\"  ...  шизнь  эпоха лишних музыкантов  \\\n",
       "id                                    ...                                   \n",
       "1.0                                0  ...      0                        0   \n",
       "4.0                                0  ...      0                        0   \n",
       "6.0                                0  ...      0                        0   \n",
       "58.0                               0  ...      0                        0   \n",
       "59.0                               0  ...      0                        0   \n",
       "\n",
       "title  …Serpeggiava Un Freddo Viscido Di Ombra Perenne’\n",
       "  しSD EP  む​(​sic)  \\\n",
       "id                                                                           \n",
       "1.0                                                    0       0         0   \n",
       "4.0                                                    0       0         0   \n",
       "6.0                                                    0       0         0   \n",
       "58.0                                                   0       0         0   \n",
       "59.0                                                   0       0         0   \n",
       "\n",
       "title  ロッコ  章4 : 真っ暗闇の人生 : Volume 1  章4 : 真っ暗闇の人生 : Volume 2  \\\n",
       "id                                                             \n",
       "1.0      0                        0                        0   \n",
       "4.0      0                        0                        0   \n",
       "6.0      0                        0                        0   \n",
       "58.0     0                        0                        0   \n",
       "59.0     0                        0                        0   \n",
       "\n",
       "title  章4 : 真っ暗闇の人生 : Volume 3  起死回生  \n",
       "id                                    \n",
       "1.0                          0     0  \n",
       "4.0                          0     0  \n",
       "6.0                          0     0  \n",
       "58.0                         0     0  \n",
       "59.0                         0     0  \n",
       "\n",
       "[5 rows x 13309 columns]"
      ]
     },
     "execution_count": 267,
     "metadata": {},
     "output_type": "execute_result"
    }
   ],
   "source": [
    "# creating a pivot to crosstab the songs based on the listens.\n",
    "\n",
    "Track_crosstab = Tracks_new.pivot_table(values='listens', index='id', columns='title', fill_value=0)\n",
    "Track_crosstab.head()\n",
    "\n",
    "\n"
   ]
  },
  {
   "cell_type": "code",
   "execution_count": 268,
   "metadata": {},
   "outputs": [
    {
     "data": {
      "text/plain": [
       "(13707, 13309)"
      ]
     },
     "execution_count": 268,
     "metadata": {},
     "output_type": "execute_result"
    }
   ],
   "source": [
    "Track_crosstab.shape"
   ]
  },
  {
   "cell_type": "code",
   "execution_count": 269,
   "metadata": {},
   "outputs": [
    {
     "data": {
      "text/plain": [
       "(13309, 13707)"
      ]
     },
     "execution_count": 269,
     "metadata": {},
     "output_type": "execute_result"
    }
   ],
   "source": [
    "X = Track_crosstab.T\n",
    "X.shape"
   ]
  },
  {
   "cell_type": "code",
   "execution_count": 270,
   "metadata": {},
   "outputs": [
    {
     "data": {
      "text/plain": [
       "(13309, 12)"
      ]
     },
     "execution_count": 270,
     "metadata": {},
     "output_type": "execute_result"
    }
   ],
   "source": [
    "# using svd to transform the data.\n",
    "SVD = TruncatedSVD(n_components=12, random_state=17)\n",
    "\n",
    "Track_matrix = SVD.fit_transform(X)\n",
    "\n",
    "Track_matrix.shape"
   ]
  },
  {
   "cell_type": "code",
   "execution_count": 276,
   "metadata": {},
   "outputs": [
    {
     "data": {
      "text/plain": [
       "2247"
      ]
     },
     "execution_count": 276,
     "metadata": {},
     "output_type": "execute_result"
    }
   ],
   "source": [
    "# obtaning the index of the cylinders song\n",
    "Track_names = Track_crosstab.columns\n",
    "Track_list = list(Track_names)\n",
    "\n",
    "Cylinders = Track_list.index('Cylinders')\n",
    "Cylinders"
   ]
  },
  {
   "cell_type": "code",
   "execution_count": 295,
   "metadata": {},
   "outputs": [
    {
     "data": {
      "text/plain": [
       "(13309,)"
      ]
     },
     "execution_count": 295,
     "metadata": {},
     "output_type": "execute_result"
    }
   ],
   "source": [
    "corr_Cylinders = corr_mat[2247]\n",
    "corr_Cylinders.shape"
   ]
  },
  {
   "cell_type": "code",
   "execution_count": 296,
   "metadata": {},
   "outputs": [
    {
     "data": {
      "text/plain": [
       "['Alice In Wonderland (1903)',\n",
       " \"J'irai Molarder sur vos Urnes\",\n",
       " \"Live on WFMU's Infinite Distortion: May 27, 2015\",\n",
       " \"Live on WFMU's Three Chord Monte with Joe Belock - February 05, 2013\",\n",
       " 'Rodopted',\n",
       " 'Root',\n",
       " 'in beach\\u200b,\\u200bside ill\\u200b-\\u200bspot']"
      ]
     },
     "execution_count": 296,
     "metadata": {},
     "output_type": "execute_result"
    }
   ],
   "source": [
    "# finding simailr tracks to cylunder based on0.27 correlation \n",
    "list(Track_names[(corr_Cylinders<1.0) & (corr_Cylinders >0.27)])\n"
   ]
  },
  {
   "cell_type": "code",
   "execution_count": 297,
   "metadata": {},
   "outputs": [
    {
     "data": {
      "text/plain": [
       "1948"
      ]
     },
     "execution_count": 297,
     "metadata": {},
     "output_type": "execute_result"
    }
   ],
   "source": [
    "Track_names = Track_crosstab.columns\n",
    "Track_list = list(Track_names)\n",
    "\n",
    "Track = Track_list.index('Classical Sampler')\n",
    "Track\n"
   ]
  },
  {
   "cell_type": "code",
   "execution_count": 298,
   "metadata": {},
   "outputs": [
    {
     "data": {
      "text/plain": [
       "(13309,)"
      ]
     },
     "execution_count": 298,
     "metadata": {},
     "output_type": "execute_result"
    }
   ],
   "source": [
    "Track_corr = corr_mat[1948]\n",
    "Track_corr.shape"
   ]
  },
  {
   "cell_type": "code",
   "execution_count": 299,
   "metadata": {},
   "outputs": [
    {
     "data": {
      "text/plain": [
       "['\"...when my heart\\'s fire rages out of control...\"',\n",
       " 'AWOL - A Way Of Life',\n",
       " 'Niris',\n",
       " 'mp3']"
      ]
     },
     "execution_count": 299,
     "metadata": {},
     "output_type": "execute_result"
    }
   ],
   "source": [
    "list(Track_names[(Track_corr<1.0) & (Track_corr >0.4)])\n"
   ]
  },
  {
   "cell_type": "code",
   "execution_count": 300,
   "metadata": {},
   "outputs": [
    {
     "data": {
      "text/plain": [
       "11287"
      ]
     },
     "execution_count": 300,
     "metadata": {},
     "output_type": "execute_result"
    }
   ],
   "source": [
    "Track_names = Track_crosstab.columns\n",
    "Track_list = list(Track_names)\n",
    "\n",
    "Track = Track_list.index('Tour CD 2006')\n",
    "Track\n"
   ]
  },
  {
   "cell_type": "code",
   "execution_count": 301,
   "metadata": {},
   "outputs": [
    {
     "data": {
      "text/plain": [
       "(13309,)"
      ]
     },
     "execution_count": 301,
     "metadata": {},
     "output_type": "execute_result"
    }
   ],
   "source": [
    "Track_corr = corr_mat[11287]\n",
    "Track_corr.shape"
   ]
  },
  {
   "cell_type": "code",
   "execution_count": 302,
   "metadata": {},
   "outputs": [
    {
     "data": {
      "text/plain": [
       "['Bad Panda #39',\n",
       " 'Campfire on Bubble Mountain',\n",
       " 'Jekyll Electric Effect',\n",
       " 'Opus Oratorium',\n",
       " 'Sit Up and Shut Down',\n",
       " 'Waves of Grey - Single']"
      ]
     },
     "execution_count": 302,
     "metadata": {},
     "output_type": "execute_result"
    }
   ],
   "source": [
    "list(Track_names[(Track_corr<1.0) & (Track_corr >0.985)])\n"
   ]
  },
  {
   "cell_type": "markdown",
   "metadata": {},
   "source": [
    "## Content based recommendation system"
   ]
  },
  {
   "cell_type": "code",
   "execution_count": 304,
   "metadata": {},
   "outputs": [
    {
     "data": {
      "text/html": [
       "<div>\n",
       "<style scoped>\n",
       "    .dataframe tbody tr th:only-of-type {\n",
       "        vertical-align: middle;\n",
       "    }\n",
       "\n",
       "    .dataframe tbody tr th {\n",
       "        vertical-align: top;\n",
       "    }\n",
       "\n",
       "    .dataframe thead th {\n",
       "        text-align: right;\n",
       "    }\n",
       "</style>\n",
       "<table border=\"1\" class=\"dataframe\">\n",
       "  <thead>\n",
       "    <tr style=\"text-align: right;\">\n",
       "      <th></th>\n",
       "      <th>comments</th>\n",
       "      <th>date_created</th>\n",
       "      <th>favorites</th>\n",
       "      <th>id</th>\n",
       "      <th>listens</th>\n",
       "      <th>title</th>\n",
       "      <th>tracks</th>\n",
       "      <th>type</th>\n",
       "    </tr>\n",
       "  </thead>\n",
       "  <tbody>\n",
       "    <tr>\n",
       "      <th>0</th>\n",
       "      <td>0.0</td>\n",
       "      <td>2008-11-26 1:44</td>\n",
       "      <td>4.0</td>\n",
       "      <td>1.0</td>\n",
       "      <td>6073.0</td>\n",
       "      <td>AWOL - A Way Of Life</td>\n",
       "      <td>7.0</td>\n",
       "      <td>Album</td>\n",
       "    </tr>\n",
       "    <tr>\n",
       "      <th>3</th>\n",
       "      <td>0.0</td>\n",
       "      <td>2008-11-26 1:45</td>\n",
       "      <td>4.0</td>\n",
       "      <td>6.0</td>\n",
       "      <td>47632.0</td>\n",
       "      <td>Constant Hitmaker</td>\n",
       "      <td>2.0</td>\n",
       "      <td>Album</td>\n",
       "    </tr>\n",
       "    <tr>\n",
       "      <th>4</th>\n",
       "      <td>0.0</td>\n",
       "      <td>2008-11-26 1:45</td>\n",
       "      <td>2.0</td>\n",
       "      <td>4.0</td>\n",
       "      <td>2710.0</td>\n",
       "      <td>Niris</td>\n",
       "      <td>13.0</td>\n",
       "      <td>Album</td>\n",
       "    </tr>\n",
       "    <tr>\n",
       "      <th>10</th>\n",
       "      <td>1.0</td>\n",
       "      <td>2008-11-26 1:49</td>\n",
       "      <td>0.0</td>\n",
       "      <td>58.0</td>\n",
       "      <td>3331.0</td>\n",
       "      <td>mp3</td>\n",
       "      <td>4.0</td>\n",
       "      <td>Single Tracks</td>\n",
       "    </tr>\n",
       "    <tr>\n",
       "      <th>12</th>\n",
       "      <td>1.0</td>\n",
       "      <td>2008-11-26 1:49</td>\n",
       "      <td>2.0</td>\n",
       "      <td>59.0</td>\n",
       "      <td>1681.0</td>\n",
       "      <td>Live at LACE</td>\n",
       "      <td>2.0</td>\n",
       "      <td>Live Performance</td>\n",
       "    </tr>\n",
       "  </tbody>\n",
       "</table>\n",
       "</div>"
      ],
      "text/plain": [
       "    comments     date_created  favorites    id  listens                 title  \\\n",
       "0        0.0  2008-11-26 1:44        4.0   1.0   6073.0  AWOL - A Way Of Life   \n",
       "3        0.0  2008-11-26 1:45        4.0   6.0  47632.0     Constant Hitmaker   \n",
       "4        0.0  2008-11-26 1:45        2.0   4.0   2710.0                 Niris   \n",
       "10       1.0  2008-11-26 1:49        0.0  58.0   3331.0                   mp3   \n",
       "12       1.0  2008-11-26 1:49        2.0  59.0   1681.0          Live at LACE   \n",
       "\n",
       "    tracks              type  \n",
       "0      7.0             Album  \n",
       "3      2.0             Album  \n",
       "4     13.0             Album  \n",
       "10     4.0     Single Tracks  \n",
       "12     2.0  Live Performance  "
      ]
     },
     "execution_count": 304,
     "metadata": {},
     "output_type": "execute_result"
    }
   ],
   "source": [
    "Tracks_new.head()"
   ]
  },
  {
   "cell_type": "code",
   "execution_count": 318,
   "metadata": {},
   "outputs": [
    {
     "data": {
      "text/plain": [
       "array([[4.0000e+00, 6.0730e+03, 7.0000e+00],\n",
       "       [4.0000e+00, 4.7632e+04, 2.0000e+00],\n",
       "       [2.0000e+00, 2.7100e+03, 1.3000e+01],\n",
       "       [0.0000e+00, 3.3310e+03, 4.0000e+00],\n",
       "       [2.0000e+00, 1.6810e+03, 2.0000e+00]])"
      ]
     },
     "execution_count": 318,
     "metadata": {},
     "output_type": "execute_result"
    }
   ],
   "source": [
    "# creating a test set to obtain songs that are simialar based on favorites number, listens and number of tracks \n",
    "test = [4, 3000, 2]\n",
    "\n",
    "X = Tracks_new[['favorites','listens','tracks']].values\n",
    "X[0:5]"
   ]
  },
  {
   "cell_type": "code",
   "execution_count": 319,
   "metadata": {
    "collapsed": true
   },
   "outputs": [],
   "source": [
    "# using nearestneighbors to fit the data\n",
    "nbrs = NearestNeighbors(n_neighbors=1).fit(X)"
   ]
  },
  {
   "cell_type": "code",
   "execution_count": 321,
   "metadata": {},
   "outputs": [
    {
     "name": "stdout",
     "output_type": "stream",
     "text": [
      "(array([[4.12310563]]), array([[2588]], dtype=int64))\n"
     ]
    }
   ],
   "source": [
    "# obtaining the index of song closest to the test set \n",
    "print(nbrs.kneighbors([test]))"
   ]
  },
  {
   "cell_type": "code",
   "execution_count": 323,
   "metadata": {},
   "outputs": [
    {
     "data": {
      "text/plain": [
       "comments                       0\n",
       "date_created    2010-02-05 21:05\n",
       "favorites                      0\n",
       "id                          5447\n",
       "listens                     3000\n",
       "title                  Wortsport\n",
       "tracks                         1\n",
       "type                       Album\n",
       "Name: 15482, dtype: object"
      ]
     },
     "execution_count": 323,
     "metadata": {},
     "output_type": "execute_result"
    }
   ],
   "source": [
    "# obtaining the info of the closest song to the test set.\n",
    "Tracks_new.iloc[2588]"
   ]
  },
  {
   "cell_type": "code",
   "execution_count": null,
   "metadata": {
    "collapsed": true
   },
   "outputs": [],
   "source": []
  }
 ],
 "metadata": {
  "kernelspec": {
   "display_name": "Python 3",
   "language": "python",
   "name": "python3"
  },
  "language_info": {
   "codemirror_mode": {
    "name": "ipython",
    "version": 3
   },
   "file_extension": ".py",
   "mimetype": "text/x-python",
   "name": "python",
   "nbconvert_exporter": "python",
   "pygments_lexer": "ipython3",
   "version": "3.6.3"
  }
 },
 "nbformat": 4,
 "nbformat_minor": 2
}
